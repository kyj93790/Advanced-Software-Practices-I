{
  "nbformat": 4,
  "nbformat_minor": 0,
  "metadata": {
    "colab": {
      "provenance": [],
      "collapsed_sections": []
    },
    "kernelspec": {
      "name": "python3",
      "display_name": "Python 3"
    },
    "language_info": {
      "name": "python"
    }
  },
  "cells": [
    {
      "cell_type": "code",
      "execution_count": null,
      "metadata": {
        "id": "vzOYX2srMHkk"
      },
      "outputs": [],
      "source": [
        "# Brute-Frorce Algorithm 예시 - 4자리의 암호로 구성된 자물쇠 풀기 (강의 ppt slide 5)\n",
        "import random\n",
        "\n",
        "password = random.randint(0,9999) # [0, 9999] 중 무작위 int형 변수를 password로 정의\n",
        "\n",
        "for i in range(0,10000):\n",
        "  if password == i:\n",
        "    print(f\"password : {i} 입니다.\")"
      ]
    },
    {
      "cell_type": "code",
      "source": [
        "# Greedy Algorithm 예시 - 거스름돈 주기 2번째 case (강의 ppt slide 8)\n",
        "price = 4100\n",
        "money = 5000\n",
        "change = money - price\n",
        "\n",
        "change_coin = [500, 300, 200, 60, 1]\n",
        "\n",
        "num_of_coins = 0\n",
        "hand_money = 0\n",
        "index = 0\n",
        "\n",
        "while(change!=hand_money):\n",
        "  if hand_money + change_coin[index] > change:\n",
        "    index += 1\n",
        "  else:\n",
        "    hand_money += change_coin[index]\n",
        "    num_of_coins += 1\n",
        "\n",
        "print(num_of_coins)\n",
        "  "
      ],
      "metadata": {
        "id": "LakOgsNvMR3L"
      },
      "execution_count": null,
      "outputs": []
    },
    {
      "cell_type": "code",
      "source": [
        "# Dynamic Programming 예시 - 피보나치 수열 구현(강의 ppt slide 11)\n",
        "fibo_num = 7\n",
        "\n",
        "def fib_overlapping_subproblem(n):\n",
        "    if (n <= 2) :\n",
        "      return 1;\n",
        "    else:\n",
        "      return fib_overlapping_subproblem(n-1) + fib_overlapping_subproblem(n-2);\n",
        "\n",
        "fib_overlapping_subproblem(fibo_num)"
      ],
      "metadata": {
        "id": "7YuJXiq3U1-6"
      },
      "execution_count": null,
      "outputs": []
    },
    {
      "cell_type": "markdown",
      "source": [],
      "metadata": {
        "id": "JJPT2j1rWhzp"
      }
    },
    {
      "cell_type": "code",
      "source": [
        "# Dynamic Programming 예시 - 메모이제이션 (강의 ppt slide 13)\n",
        "memo = [1, 1]\n",
        "\n",
        "def fibo_memo(n):\n",
        "  for i in range(2,n):\n",
        "    memo.append(memo[i-1] + memo[i-2])\n",
        "  return memo[n-1]\n",
        "fibo_memo(7)"
      ],
      "metadata": {
        "id": "laSScZieV32R"
      },
      "execution_count": null,
      "outputs": []
    },
    {
      "cell_type": "code",
      "source": [
        "# 실습 4, Hint : Bit-Masking 예시 (강의 ppt slide 25)\n",
        "switch_states = [True, False, False, True, True, False, False, False, True, True] # 1001100011\n",
        "\n",
        "# 집합을 이진으로 표현함\n",
        "switch_states_with_bit = 0b1001100011 \n",
        "\n",
        "# 인덱스 2를 True로 바꿈\n",
        "n = len(switch_states) - 1 - 2\n",
        "print(bin(switch_states_with_bit | (1 << n))) # 1001100011 | 10000000\n",
        "\n",
        "# 인덱스 3을 False로 바꿈\n",
        "n = len(switch_states) - 1 - 3\n",
        "print(bin(switch_states_with_bit & ~(1 << n)))  # 1001100011 & 0111111\n",
        "\n",
        "# 원소 토글 (켜져있으면 끄고 꺼져있으면 켜기)\n",
        "n = len(switch_states) - 1 - 6\n",
        "print(bin(switch_states_with_bit ^ (1 << n))) # 1001100011 ^ 1000\n"
      ],
      "metadata": {
        "id": "AsHetj9HXcyO"
      },
      "execution_count": null,
      "outputs": []
    },
    {
      "cell_type": "code",
      "source": [
        "# 실습 1 - 팰린드롬(palin)\n",
        "# Brute-Force 알고리즘을 이용하여 word에 문자열을 추가해서 팰린드롬으로 만들 수 있는 가장 짧은 팰린드롬의 길이와 해당 팰린드롬을 반환하는 palindrom_bf 함수를 작성하시오.\n",
        "\n",
        "word = str(input(\"문자열을 입력해주세요 : \"))\n",
        "\n",
        "def palindrom_bf(word):\n",
        "  \"\"\" Input your code Here \"\"\"\n",
        "\n",
        "palindrom_length, palindrom = palindrom_bf(word)\n",
        "print(f\"팰린드롬에 필요한 문자는 {palindrom}이고 해당 문자의 갯수는 {palindrom_length}개입니다.\")"
      ],
      "metadata": {
        "id": "PxBGoV7vmWNw"
      },
      "execution_count": null,
      "outputs": []
    },
    {
      "cell_type": "code",
      "source": [
        "# 실습 2 - 영업사원 A는 판매를 위해 N개 업체와 미팅을 해야하는데 각 회의의 시작 시간과 종료 시간이 입력으로 주어졌을 때, 영업사원 A는 최대한 많은 업체와 미팅을 하려고 한다.\n",
        "# 최대한 많은 업체와 미팅르 하는 경우, 진행될 회의 각각의 시작시간, 종료시간을 출력하시오.\n",
        "# Hint : Greedy 알고리즘을 이용해 문제를 풀어보자\n",
        "\n",
        "N = int(input())\n",
        "times = []\n",
        "for n in range(N) :\n",
        "    times.append(list(map(int, input().split())))\n",
        "\n",
        "\n",
        "# 일찍 끝나는 순서로 정렬\n",
        "\"\"\" Input your code Here \"\"\"\n",
        "\n",
        "# 같은 end time 내에서 빠른 start time 순으로 정렬 되어있어야 한다.\n",
        "# [[4, 4], [3, 4], [2, 4]] 의 경우 [4, 4] 만하고 끝나버리기 때문\n",
        "\"\"\" Input your code Here \"\"\"\n",
        "\n",
        "answer = ''\n",
        "end = 0\n",
        "\n",
        "for t in times :\n",
        "    \"\"\" Input your code Here \"\"\"\n",
        "\n",
        "print(f\"회의 시작시간 및 종료시간 : \\n{answer}\")"
      ],
      "metadata": {
        "id": "QMPzl6Wsszq_"
      },
      "execution_count": null,
      "outputs": []
    },
    {
      "cell_type": "code",
      "source": [
        "# 실습 3 - 연속된 수열에서 가장 큰 합 구하기\n",
        "n = int(input(\"N : \"))\n",
        "print(\"수열을 입력해주세요 : \")\n",
        "a = list(map(int, input().split()))\n",
        "\n",
        "sum = [a[0]]\n",
        "for i in range(len(a) - 1):\n",
        "    \"\"\" Input your code Here \"\"\"\n",
        "print(f\"정답은 {max(sum)}입니다.\")\n"
      ],
      "metadata": {
        "id": "f0BR555TucVs"
      },
      "execution_count": null,
      "outputs": []
    },
    {
      "cell_type": "code",
      "source": [
        "# 실습 4 - 1부터 N까지 번호가 매겨져 있는 나라들이 있고, 나라들 사이에는 길이 있다.\n",
        "# 이제 한 대학생이 어느 한 나라에서 출발해 N개의 나라를 모두 거쳐 원래의 나라로 돌아오는 순회 여행을 게획하려한다.\n",
        "# 단, 한 번 갔던 나라로는 다시 갈 수 없다. \n",
        "# 이 때, 각 나라 간의 입국심사에 쓰이는 노력(비용)의 양이 다르다.(대칭적이지 않음)\n",
        "# 가장 적은 노력(비용)을 들여 순회 여행을 하려 할 때, 가장 적은 비용을 출력하시오.\n",
        "import time\n",
        "\n",
        "n = int(input(\"N : \"))\n",
        "print(\"각 나라별 필요 노력을 입력해주세요\")\n",
        "cities = [list(map(int, input().split())) for _ in range(n)]\n",
        "VISITED_ALL = (1 << n) - 1\n",
        "\n",
        "cache = [[None] * (1 << n) for _ in range(n)]\n",
        "INF = float('inf')\n",
        "idx = 1\n",
        "\n",
        "\n",
        "def find_path(last, visited):\n",
        "    \"\"\" Input your code Here \"\"\"\n",
        "    return tmp\n",
        "\n",
        "start = time.time()\n",
        "print(f\"정답은 {find_path(0, 1 << 0)}이고, 걸린시간은 {time.time()-start}입니다.\")"
      ],
      "metadata": {
        "id": "R7vpXBC_znK-"
      },
      "execution_count": null,
      "outputs": []
    }
  ]
}