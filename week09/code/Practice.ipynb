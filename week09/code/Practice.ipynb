{
  "nbformat": 4,
  "nbformat_minor": 0,
  "metadata": {
    "colab": {
      "provenance": []
    },
    "kernelspec": {
      "name": "python3",
      "display_name": "Python 3"
    },
    "language_info": {
      "name": "python"
    }
  },
  "cells": [
    {
      "cell_type": "code",
      "execution_count": 7,
      "metadata": {
        "id": "vzOYX2srMHkk",
        "colab": {
          "base_uri": "https://localhost:8080/"
        },
        "outputId": "e5d28a38-8c81-45d1-833f-83bbe7daf3f5"
      },
      "outputs": [
        {
          "output_type": "stream",
          "name": "stdout",
          "text": [
            "password : 7070 입니다.\n"
          ]
        }
      ],
      "source": [
        "# Brute-Frorce Algorithm 예시 - 4자리의 암호로 구성된 자물쇠 풀기 (강의 ppt slide 5)\n",
        "import random\n",
        "\n",
        "password = random.randint(0,9999) # [0, 9999] 중 무작위 int형 변수를 password로 정의\n",
        "\n",
        "for i in range(0,10000):\n",
        "  if password == i:\n",
        "    print(f\"password : {i} 입니다.\")"
      ]
    },
    {
      "cell_type": "code",
      "source": [
        "# Greedy Algorithm 예시 - 거스름돈 주기 2번째 case (강의 ppt slide 8)\n",
        "price = 4100\n",
        "money = 5000\n",
        "change = money - price\n",
        "\n",
        "change_coin = [500, 300, 200, 60, 1]\n",
        "\n",
        "num_of_coins = 0\n",
        "hand_money = 0\n",
        "index = 0\n",
        "\n",
        "while(change!=hand_money):\n",
        "  if hand_money + change_coin[index] > change:\n",
        "    index += 1\n",
        "  else:\n",
        "    hand_money += change_coin[index]\n",
        "    num_of_coins += 1\n",
        "\n",
        "print(num_of_coins)\n",
        "  "
      ],
      "metadata": {
        "id": "LakOgsNvMR3L",
        "colab": {
          "base_uri": "https://localhost:8080/"
        },
        "outputId": "a46cbb8f-12fe-4db7-dbe5-b2ab47bb1a0a"
      },
      "execution_count": 8,
      "outputs": [
        {
          "output_type": "stream",
          "name": "stdout",
          "text": [
            "43\n"
          ]
        }
      ]
    },
    {
      "cell_type": "code",
      "source": [
        "# Dynamic Programming 예시 - 피보나치 수열 구현(강의 ppt slide 11)\n",
        "fibo_num = 7\n",
        "\n",
        "def fib_overlapping_subproblem(n):\n",
        "    if (n <= 2) :\n",
        "      return 1;\n",
        "    else:\n",
        "      return fib_overlapping_subproblem(n-1) + fib_overlapping_subproblem(n-2);\n",
        "\n",
        "fib_overlapping_subproblem(fibo_num)"
      ],
      "metadata": {
        "id": "7YuJXiq3U1-6",
        "colab": {
          "base_uri": "https://localhost:8080/"
        },
        "outputId": "ebe9084a-499b-427f-a9ec-eefa6be34bac"
      },
      "execution_count": 9,
      "outputs": [
        {
          "output_type": "execute_result",
          "data": {
            "text/plain": [
              "13"
            ]
          },
          "metadata": {},
          "execution_count": 9
        }
      ]
    },
    {
      "cell_type": "markdown",
      "source": [],
      "metadata": {
        "id": "JJPT2j1rWhzp"
      }
    },
    {
      "cell_type": "code",
      "source": [
        "# Dynamic Programming 예시 - 메모이제이션 (강의 ppt slide 13)\n",
        "memo = [1, 1]\n",
        "\n",
        "def fibo_memo(n):\n",
        "  for i in range(2,n):\n",
        "    memo.append(memo[i-1] + memo[i-2])\n",
        "  return memo[n-1]\n",
        "fibo_memo(7)"
      ],
      "metadata": {
        "id": "laSScZieV32R",
        "colab": {
          "base_uri": "https://localhost:8080/"
        },
        "outputId": "8cba3761-09b4-44d4-e129-0c9256013a2f"
      },
      "execution_count": 10,
      "outputs": [
        {
          "output_type": "execute_result",
          "data": {
            "text/plain": [
              "13"
            ]
          },
          "metadata": {},
          "execution_count": 10
        }
      ]
    },
    {
      "cell_type": "code",
      "source": [
        "# 실습 4, Hint : Bit-Masking 예시 (강의 ppt slide 25)\n",
        "switch_states = [True, False, False, True, True, False, False, False, True, True] # 1001100011\n",
        "\n",
        "# 집합을 이진으로 표현함\n",
        "switch_states_with_bit = 0b1001100011 \n",
        "\n",
        "# 인덱스 2를 True로 바꿈\n",
        "n = len(switch_states) - 1 - 2\n",
        "print(bin(switch_states_with_bit | (1 << n))) # 1001100011 | 10000000\n",
        "\n",
        "# 인덱스 3을 False로 바꿈\n",
        "n = len(switch_states) - 1 - 3\n",
        "print(bin(switch_states_with_bit & ~(1 << n)))  # 1001100011 & 0111111\n",
        "\n",
        "# 원소 토글 (켜져있으면 끄고 꺼져있으면 켜기)\n",
        "n = len(switch_states) - 1 - 6\n",
        "print(bin(switch_states_with_bit ^ (1 << n))) # 1001100011 ^ 1000\n"
      ],
      "metadata": {
        "id": "AsHetj9HXcyO",
        "colab": {
          "base_uri": "https://localhost:8080/"
        },
        "outputId": "c282506b-c515-4bf5-a0cb-3e1b4ceea4fc"
      },
      "execution_count": 11,
      "outputs": [
        {
          "output_type": "stream",
          "name": "stdout",
          "text": [
            "0b1011100011\n",
            "0b1000100011\n",
            "0b1001101011\n"
          ]
        }
      ]
    },
    {
      "cell_type": "code",
      "source": [
        "# 실습 1 - 팰린드롬(palin)\n",
        "# Brute-Force 알고리즘을 이용하여 word에 문자열을 추가해서 팰린드롬으로 만들 수 있는 가장 짧은 팰린드롬의 길이와 해당 팰린드롬을 반환하는 palindrom_bf 함수를 작성하시오.\n",
        "\n",
        "word = str(input(\"문자열을 입력해주세요 : \"))\n",
        "\n",
        "def check_palindrom(word):\n",
        "    idx = len(word) // 2\n",
        "    if len(word) % 2 == 0:\n",
        "        l = idx - 1\n",
        "        r = idx    \n",
        "    else:\n",
        "        l = idx - 1\n",
        "        r = idx + 1\n",
        "\n",
        "    while l >= 0:\n",
        "        if word[l] != word[r]:\n",
        "            return 0\n",
        "        l -= 1\n",
        "        r += 1\n",
        "    return 1\n",
        "\n",
        "def palindrom_bf(word):\n",
        "    if len(word) <= 1:\n",
        "        return 0, word\n",
        "    ans_len = len(word) * 2\n",
        "    ans_word = word + word[0:len(word)][::-1]\n",
        "\n",
        "    idx = len(word) - 1\n",
        "    while idx >= 0:\n",
        "      tmp = word + word[0:idx][::-1]\n",
        "      if check_palindrom(tmp) == 1:\n",
        "          if ans_len > len(tmp):\n",
        "            ans_len = len(tmp)\n",
        "            ans_word = tmp\n",
        "      idx -= 1\n",
        "    return ans_len, ans_word    \n",
        "\n",
        "palindrom_length, palindrom = palindrom_bf(word)\n",
        "print(f\"팰린드롬에 필요한 문자는 {palindrom}이고 해당 문자의 갯수는 {palindrom_length}개입니다.\")"
      ],
      "metadata": {
        "id": "PxBGoV7vmWNw",
        "colab": {
          "base_uri": "https://localhost:8080/"
        },
        "outputId": "9ac1e568-989b-479e-8e3a-ea9ffe55edcb"
      },
      "execution_count": 12,
      "outputs": [
        {
          "output_type": "stream",
          "name": "stdout",
          "text": [
            "문자열을 입력해주세요 : banana\n",
            "팰린드롬에 필요한 문자는 bananab이고 해당 문자의 갯수는 7개입니다.\n"
          ]
        }
      ]
    },
    {
      "cell_type": "code",
      "source": [
        "# 실습 2 - 영업사원 A는 판매를 위해 N개 업체와 미팅을 해야하는데 각 회의의 시작 시간과 종료 시간이 입력으로 주어졌을 때, 영업사원 A는 최대한 많은 업체와 미팅을 하려고 한다.\n",
        "# 최대한 많은 업체와 미팅르 하는 경우, 진행될 회의 각각의 시작시간, 종료시간을 출력하시오.\n",
        "# Hint : Greedy 알고리즘을 이용해 문제를 풀어보자\n",
        "\n",
        "N = int(input())\n",
        "times = []\n",
        "for n in range(N) :\n",
        "    times.append(list(map(int, input().split())))\n",
        "\n",
        "# 일찍 끝나는 순서로 정렬\n",
        "# 같은 end time 내에서 빠른 start time 순으로 정렬 되어있어야 한다.\n",
        "# [[4, 4], [3, 4], [2, 4]] 의 경우 [4, 4] 만하고 끝나버리기 때문\n",
        "times.sort(key = lambda x: (x[1], x[0]))\n",
        "\n",
        "answer = ''\n",
        "end = 0\n",
        "\n",
        "for t in times :\n",
        "    if t[0] >= end:\n",
        "        if answer != '':\n",
        "          answer += ' '\n",
        "        answer += str(t[0]) + ' ' + str(t[1])\n",
        "        end = t[1]\n",
        "\n",
        "print(f\"회의 시작시간 및 종료시간 : \\n{answer}\")"
      ],
      "metadata": {
        "id": "QMPzl6Wsszq_",
        "colab": {
          "base_uri": "https://localhost:8080/"
        },
        "outputId": "e49cd049-dba7-4669-8f3d-cceea6853e5d"
      },
      "execution_count": 13,
      "outputs": [
        {
          "output_type": "stream",
          "name": "stdout",
          "text": [
            "11\n",
            "1 4\n",
            "3 5\n",
            "0 6\n",
            "5 7\n",
            "3 8\n",
            "5 9\n",
            "6 10\n",
            "8 11\n",
            "8 12\n",
            "2 13\n",
            "12 14\n",
            "회의 시작시간 및 종료시간 : \n",
            "1 4 5 7 8 11 12 14\n"
          ]
        }
      ]
    },
    {
      "cell_type": "code",
      "source": [
        "# 실습 3 - 연속된 수열에서 가장 큰 합 구하기\n",
        "n = int(input(\"N : \"))\n",
        "print(\"수열을 입력해주세요 : \")\n",
        "a = list(map(int, input().split()))\n",
        "\n",
        "sum = [a[0]]\n",
        "for i in range(len(a) - 1):\n",
        "    if sum[i] <= 0:\n",
        "        sum.append(a[i+1])\n",
        "    else:\n",
        "        sum.append(sum[i] + a[i+1])\n",
        "print(f\"정답은 {max(sum)}입니다.\")\n"
      ],
      "metadata": {
        "id": "f0BR555TucVs",
        "colab": {
          "base_uri": "https://localhost:8080/"
        },
        "outputId": "963edcf0-dea4-49e3-d373-68330f7d469e"
      },
      "execution_count": 15,
      "outputs": [
        {
          "output_type": "stream",
          "name": "stdout",
          "text": [
            "N : 7\n",
            "수열을 입력해주세요 : \n",
            "-1 7 -4 8 3 -5 6\n",
            "정답은 15입니다.\n"
          ]
        }
      ]
    },
    {
      "cell_type": "code",
      "source": [
        "# 실습 4 - 1부터 N까지 번호가 매겨져 있는 나라들이 있고, 나라들 사이에는 길이 있다.\n",
        "# 이제 한 대학생이 어느 한 나라에서 출발해 N개의 나라를 모두 거쳐 원래의 나라로 돌아오는 순회 여행을 게획하려한다.\n",
        "# 단, 한 번 갔던 나라로는 다시 갈 수 없다. \n",
        "# 이 때, 각 나라 간의 입국심사에 쓰이는 노력(비용)의 양이 다르다.(대칭적이지 않음)\n",
        "# 가장 적은 노력(비용)을 들여 순회 여행을 하려 할 때, 가장 적은 비용을 출력하시오.\n",
        "import time\n",
        "\n",
        "n = int(input(\"N : \"))\n",
        "print(\"각 나라별 필요 노력을 입력해주세요\")\n",
        "cities = [list(map(int, input().split())) for _ in range(n)]\n",
        "VISITED_ALL = (1 << n) - 1\n",
        "\n",
        "INF = float('inf')\n",
        "cache = [[None] * (1 << n) for _ in range(n)]\n",
        "idx = 0\n",
        "\n",
        "def find_path(last, visited):\n",
        "    if visited == VISITED_ALL:\n",
        "        if cities[last][idx]:\n",
        "            return cities[last][idx]\n",
        "        else:\n",
        "            return INF\n",
        "\n",
        "    if cache[last][visited] == None:\n",
        "        cache[last][visited] = INF\n",
        "        for i in range(n):\n",
        "            if visited & (1<<i) == 0 and cities[last][i] > 0: # 아직 visit하지 않은 node\n",
        "                new_visited = visited | (1<<i)\n",
        "                cache[last][visited] = min(cache[last][visited], find_path(i, new_visited) + cities[last][i])\n",
        "        return cache[last][visited]\n",
        "    else:\n",
        "        return cache[last][visited]\n",
        "            \n",
        "\n",
        "start = time.time()\n",
        "print(f\"정답은 {find_path(idx, 1 << idx)}이고, 걸린시간은 {time.time()-start}입니다.\")"
      ],
      "metadata": {
        "id": "R7vpXBC_znK-",
        "colab": {
          "base_uri": "https://localhost:8080/"
        },
        "outputId": "8bd3563d-0817-40fe-c117-d4835ca5547c"
      },
      "execution_count": 17,
      "outputs": [
        {
          "output_type": "stream",
          "name": "stdout",
          "text": [
            "N : 5\n",
            "각 나라별 필요 노력을 입력해주세요\n",
            "0 5 2 9 5\n",
            "1 0 1 3 2\n",
            "15 11 0 13 8\n",
            "10 11 6 0 19\n",
            "4 3 4 5 0\n",
            "정답은 26이고, 걸린시간은 0.00010251998901367188입니다.\n"
          ]
        }
      ]
    }
  ]
}