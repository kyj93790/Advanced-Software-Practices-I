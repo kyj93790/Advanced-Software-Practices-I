{
 "cells": [
  {
   "cell_type": "code",
   "execution_count": 17,
   "id": "af554d18",
   "metadata": {},
   "outputs": [
    {
     "name": "stdout",
     "output_type": "stream",
     "text": [
      "Defaulting to user installation because normal site-packages is not writeable\n",
      "Collecting sympy\n",
      "  Downloading sympy-1.11.1-py3-none-any.whl (6.5 MB)\n",
      "\u001b[2K     \u001b[90m━━━━━━━━━━━━━━━━━━━━━━━━━━━━━━━━━━━━━━━━\u001b[0m \u001b[32m6.5/6.5 MB\u001b[0m \u001b[31m1.3 MB/s\u001b[0m eta \u001b[36m0:00:00\u001b[0m00:01\u001b[0m00:01\u001b[0m\n",
      "\u001b[?25hCollecting mpmath>=0.19\n",
      "  Downloading mpmath-1.2.1-py3-none-any.whl (532 kB)\n",
      "\u001b[2K     \u001b[90m━━━━━━━━━━━━━━━━━━━━━━━━━━━━━━━━━━━━━\u001b[0m \u001b[32m532.6/532.6 kB\u001b[0m \u001b[31m191.7 kB/s\u001b[0m eta \u001b[36m0:00:00\u001b[0m00:01\u001b[0m00:01\u001b[0m\n",
      "\u001b[?25hInstalling collected packages: mpmath, sympy\n",
      "\u001b[33m  WARNING: The script isympy is installed in '/Users/joohoonpark/Library/Python/3.9/bin' which is not on PATH.\n",
      "  Consider adding this directory to PATH or, if you prefer to suppress this warning, use --no-warn-script-location.\u001b[0m\u001b[33m\n",
      "\u001b[0mSuccessfully installed mpmath-1.2.1 sympy-1.11.1\n",
      "\n",
      "\u001b[1m[\u001b[0m\u001b[34;49mnotice\u001b[0m\u001b[1;39;49m]\u001b[0m\u001b[39;49m A new release of pip available: \u001b[0m\u001b[31;49m22.1.2\u001b[0m\u001b[39;49m -> \u001b[0m\u001b[32;49m22.2.2\u001b[0m\n",
      "\u001b[1m[\u001b[0m\u001b[34;49mnotice\u001b[0m\u001b[1;39;49m]\u001b[0m\u001b[39;49m To update, run: \u001b[0m\u001b[32;49m/Library/Developer/CommandLineTools/usr/bin/python3 -m pip install --upgrade pip\u001b[0m\n"
     ]
    }
   ],
   "source": [
    "!pip3 install sympy"
   ]
  },
  {
   "cell_type": "code",
   "execution_count": 3,
   "id": "a85a563d",
   "metadata": {},
   "outputs": [
    {
     "name": "stdout",
     "output_type": "stream",
     "text": [
      "abc\n",
      "def\n",
      "abc\n",
      "def\n",
      "abc\n",
      "def\n",
      "abc\n",
      "def\n",
      "abc\n",
      "def\n",
      "a의 값은 50 입니다.\n",
      "a=50, b=100\n"
     ]
    }
   ],
   "source": [
    "# Python에서 반복문 & 출력문 사용법\n",
    "\n",
    "# i=0으로 초기화하고 각 iteration마다 i는 1씩 증가하는 iteration을 i==5 전까지 반복\n",
    "# C언어로 나타내면 for(int i=0; i<5; i++)와 같음\n",
    "for i in range(0, 5):\n",
    "    print(\"abc\")   # abc를 출력하라\n",
    "    print(\"def\")   # def를 출력하라  => 각 print문 마다 자동으로 줄바꿈(\\n)이 적용됨\n",
    "\n",
    "    \n",
    "# 변수 출력 예시\n",
    "a = 50\n",
    "b = 100\n",
    "print(f\"a의 값은 {a} 입니다.\")\n",
    "print(\"a={}, b={}\".format(a,b))"
   ]
  },
  {
   "cell_type": "code",
   "execution_count": 4,
   "id": "8ed44017",
   "metadata": {},
   "outputs": [
    {
     "name": "stdout",
     "output_type": "stream",
     "text": [
      "1번째 피보나치 항 :1\n",
      "2번째 피보나치 항 :1\n",
      "3번째 피보나치 항 :2\n",
      "4번째 피보나치 항 :3\n",
      "5번째 피보나치 항 :5\n",
      "6번째 피보나치 항 :8\n",
      "7번째 피보나치 항 :13\n",
      "8번째 피보나치 항 :21\n",
      "9번째 피보나치 항 :34\n",
      "10번째 피보나치 항 :55\n"
     ]
    }
   ],
   "source": [
    "# 실습 1-1. 주어진 피보나치 수열의 정의를 이용하여 기본적인 재귀적 풀이 방식으로 n번째 피보나치 수를 구하는 fibo_1 함수를 작성하시오.\n",
    "# fibo_1을 이용하여 피보나치 수열의 1~10번째 항을 반복문을 이용하여 출력하시오.\n",
    "# Hint : 3가지 경우로 분기된 피보나치 수열의 정의식을 그대로 코드로 옮겨보자\n",
    "\n",
    "def fibo_1(n):\n",
    "    #TODO\n",
    "    pass\n",
    "    return\n",
    "\n",
    "for n in range(1, 11):\n",
    "    print(f'{n}번째 피보나치 항 :{fibo_1(n)}')"
   ]
  },
  {
   "cell_type": "code",
   "execution_count": 5,
   "id": "536b51bb",
   "metadata": {},
   "outputs": [
    {
     "name": "stdout",
     "output_type": "stream",
     "text": [
      "1번째 피보나치 항 : 1\n",
      "2번째 피보나치 항 : 1\n",
      "3번째 피보나치 항 : 2\n",
      "4번째 피보나치 항 : 3\n",
      "5번째 피보나치 항 : 5\n",
      "6번째 피보나치 항 : 8\n",
      "7번째 피보나치 항 : 13\n",
      "8번째 피보나치 항 : 21\n",
      "9번째 피보나치 항 : 34\n",
      "10번째 피보나치 항 : 55\n"
     ]
    }
   ],
   "source": [
    "# 실습 1-2. 피보나치 수열의 특징을 이용하여 반복적 풀이 방식으로 n번째 피보나치 수를 구하는 fibo_2 함수를 직성하시오.\n",
    "# fibo_2를 이용하여 피보나치 수열의 1~10번째 항을 반복문을 이용하여 출력하시오.\n",
    "# Hint : 피보나치 수열의 n+1 번째 항은 n-1 번재 항과 n 번째 항을 더한 값이다.\n",
    "\n",
    "def fibo_2(n):\n",
    "    #TODO\n",
    "    pass \n",
    "    return \n",
    "\n",
    "\n",
    "for n in range(1, 11):\n",
    "    print(f'{n}번째 피보나치 항 : {fibo_2(n)}')"
   ]
  },
  {
   "cell_type": "code",
   "execution_count": 6,
   "id": "94a7039c",
   "metadata": {},
   "outputs": [
    {
     "name": "stdout",
     "output_type": "stream",
     "text": [
      "1번째 피보나치 항 : 1\n",
      "2번째 피보나치 항 : 1\n",
      "3번째 피보나치 항 : 2\n",
      "4번째 피보나치 항 : 3\n",
      "5번째 피보나치 항 : 5\n",
      "6번째 피보나치 항 : 8\n",
      "7번째 피보나치 항 : 13\n",
      "8번째 피보나치 항 : 21\n",
      "9번째 피보나치 항 : 34\n",
      "10번째 피보나치 항 : 55\n"
     ]
    }
   ],
   "source": [
    "# 실습 1-3. 동적 계획법과 재귀적 방법 또는 반복문을 이용하여 n번째 피보나치 수를 구하는 fibo_3 함수를 작성하시오\n",
    "# fibo_3을 이용하여 피보나치 수열의 1~10번째 항을 반복문을 이용하여 출력하시오.\n",
    "# Hint : list나 array 같은 자료구조에 n번째 피보나치 수열의 값을 저장한다\n",
    "# Hint(재귀적 방법) : 재귀함수의 재귀 종료조건(=base case)을 n<2, 즉 피보나치 수열의 1번째 항일 때로 설정한다.\n",
    "\n",
    "# 반복문을 사용하였을 경우의 답안\n",
    "\n",
    "\n",
    "def fibo_3(n):\n",
    "    if n < 2:\n",
    "        return n\n",
    "    cache = [0 for _ in range(n+1)]\n",
    "    #TODO\n",
    "    \n",
    "    for i in range(2, n+1):\n",
    "        #TODO\n",
    "    \n",
    "\n",
    "    return cache[n]\n",
    "\n",
    "for n in range(1, 11):\n",
    "    print(f'{n}번째 피보나치 항 : {fibo_3(n)}')"
   ]
  },
  {
   "cell_type": "code",
   "execution_count": 7,
   "id": "0691e6da",
   "metadata": {},
   "outputs": [
    {
     "name": "stdout",
     "output_type": "stream",
     "text": [
      "1번째 피보나치 항 : 1\n",
      "2번째 피보나치 항 : 1\n",
      "3번째 피보나치 항 : 2\n",
      "4번째 피보나치 항 : 3\n",
      "5번째 피보나치 항 : 5\n",
      "6번째 피보나치 항 : 8\n",
      "7번째 피보나치 항 : 13\n",
      "8번째 피보나치 항 : 21\n",
      "9번째 피보나치 항 : 34\n",
      "10번째 피보나치 항 : 55\n"
     ]
    }
   ],
   "source": [
    "# 실습 1-3. 재귀를 사용하였을 경우의 답안\n",
    "\n",
    "def fibo_3(n):\n",
    "    cache = [-1 for _ in range(n+1)]\n",
    "\n",
    "    def iterate(n):\n",
    "        if n< 2:\n",
    "            return n\n",
    "        \n",
    "        if cache[n] != -1:\n",
    "            #TODO\n",
    "            pass\n",
    "        \n",
    "        #TODO\n",
    "        return #TODO\n",
    "    \n",
    "    return iterate(n)\n",
    "\n",
    "for n in range(1, 11):\n",
    "    print(f'{n}번째 피보나치 항 : {fibo_3(n)}')"
   ]
  },
  {
   "cell_type": "code",
   "execution_count": 13,
   "id": "4d249904",
   "metadata": {},
   "outputs": [
    {
     "name": "stdout",
     "output_type": "stream",
     "text": [
      "[[19 22]\n",
      " [43 50]]\n"
     ]
    }
   ],
   "source": [
    "# NumPy 모듈을 이용한 행렬 곱셈 구현\n",
    "import numpy as np   # numpy 모듈을 np라는 이름으로 현재 소스로 불러오기\n",
    "\n",
    "a = np.array([[1, 2], \n",
    "              [3, 4]])  # 1행이 1, 2고 2행이 3, 4인 2x2 정방행렬 a 정의\n",
    "b = np.array([[5, 6], \n",
    "              [7, 8]])  # 1행이 5, 6이고 2행이 7, 8인 2x2 정방행렬 b 정의\n",
    "c = np.matmul(a, b)   # np.matmul을 이용하여 axb 순으로 행렬곱\n",
    "print(c)"
   ]
  },
  {
   "cell_type": "code",
   "execution_count": 9,
   "id": "a8c1e52f",
   "metadata": {},
   "outputs": [
    {
     "name": "stdout",
     "output_type": "stream",
     "text": [
      "1번째 피보나치 항 : 1\n",
      "2번째 피보나치 항 : 1\n",
      "3번째 피보나치 항 : 2\n",
      "4번째 피보나치 항 : 3\n",
      "5번째 피보나치 항 : 5\n",
      "6번째 피보나치 항 : 8\n",
      "7번째 피보나치 항 : 13\n",
      "8번째 피보나치 항 : 21\n",
      "9번째 피보나치 항 : 34\n",
      "10번째 피보나치 항 : 55\n"
     ]
    }
   ],
   "source": [
    "# 실습 1-4. Numpy를 이용한 행렬 곱셈 풀이를 이용하여 n번째 피보나치 수를 구하는 fibo_4 함수를 작성하시오. \n",
    "# fibo_4를 이용하여 피보나치 수열의 1~10번째 항을 반복문을 이용하여 출력하시오.\n",
    "# Hint : Numpy 모듈의 행렬곱 함수와 피보나치 수열의 행렬곱 관계를 참고한다.\n",
    "\n",
    "import numpy as np\n",
    "\n",
    "def fibo_4(n):\n",
    "    base = np.array([[1, 1], [1, 0]]) # 곱셈을 시작해 나갈 기본 행렬\n",
    "    result = np.array([[1, 0], [0, 1]])\n",
    "\n",
    "    for _ in range(n):\n",
    "        #TODO\n",
    "    return #TODO\n",
    "\n",
    "for n in range(1, 11):\n",
    "    print(f'{n}번째 피보나치 항 : {fibo_4(n)}')"
   ]
  },
  {
   "cell_type": "code",
   "execution_count": 10,
   "id": "afd3540b",
   "metadata": {},
   "outputs": [
    {
     "name": "stdout",
     "output_type": "stream",
     "text": [
      "1번째 피보나치 항 : 1\n",
      "2번째 피보나치 항 : 1\n",
      "3번째 피보나치 항 : 2\n",
      "4번째 피보나치 항 : 3\n",
      "5번째 피보나치 항 : 5\n",
      "6번째 피보나치 항 : 8\n",
      "7번째 피보나치 항 : 13\n",
      "8번째 피보나치 항 : 21\n",
      "9번째 피보나치 항 : 34\n",
      "10번째 피보나치 항 : 55\n"
     ]
    }
   ],
   "source": [
    "# 실습 1-5. 행렬 곱셈을 이용한 풀이를 이용하여 실습 1-4 문제를 해결하는 fibo_5 함수를 구현하시오. \n",
    "# 단, numpy를 사용하지말고 시간 복잡도를 𝑂(log_2⁡𝑛)으로 줄일 것\n",
    "# fibo_5를 이용하여 피보나치 수열의 1~10번째 항을 반복문을 이용하여 출력하시오.\n",
    "# Hint : ppt 참조\n",
    "\n",
    "def fibo_5(n):\n",
    "    SIZE = 2\n",
    "    ZERO = #TODO # 행렬의 항등원\n",
    "    BASE = #TODO # 곱셈을 시작해 나갈 기본 행렬\n",
    "\n",
    "    # 두 행렬의 곱을 구한다\n",
    "    def square_matrix_mul(a, b, size=SIZE):\n",
    "        #TODO\n",
    "        pass\n",
    "        \n",
    "\n",
    "    # 기본 행렬을 n번 곱한 행렬을 만든다\n",
    "    def get_nth(n):\n",
    "        matrix = ZERO.copy()\n",
    "        k = 0\n",
    "        tmp = BASE.copy()\n",
    "\n",
    "        while 2 ** k <= n:   # 비트 연산을 이용하여 n \n",
    "            if #TODO  != 0:\n",
    "                matrix = square_matrix_mul(matrix, tmp)\n",
    "            k += 1\n",
    "            tmp = square_matrix_mul(tmp, tmp)\n",
    "\n",
    "        return matrix\n",
    "\n",
    "    return #TODO\n",
    "\n",
    "for n in range(1, 11):\n",
    "    print(f'{n}번째 피보나치 항 : {fibo_5(n)}')"
   ]
  },
  {
   "cell_type": "code",
   "execution_count": 14,
   "id": "9e029d20",
   "metadata": {},
   "outputs": [
    {
     "name": "stdout",
     "output_type": "stream",
     "text": [
      "비트 연산 and(&), or(|), xor(^) \n",
      "16\n",
      "27\n",
      "11\n",
      "---------------------------------\n",
      "\n",
      "비트 연산 shift << \n",
      "6\n",
      "12\n",
      "---------------------------------\n",
      "\n",
      "비트 연산 shift >> \n",
      "18\n",
      "9\n",
      "---------------------------------\n",
      "\n"
     ]
    }
   ],
   "source": [
    "# 실습 1-5 : Hint 3 관련 소스\n",
    "\n",
    "# 비트연산 : and(&), or(|), xor(^)\n",
    "print(\"비트 연산 and(&), or(|), xor(^) \")\n",
    "a = 18     # 10010\n",
    "b = 25     # 11001\n",
    "print(a & b)     # 10010 & 11001 => 10000 (= 16, 같은 위치의 두 비트가 둘 다 1이면 1. 둘 다 0이거나 다르면 0)\n",
    "print(a | b)     # 10010 | 11001 => 11011 (= 27, 같은 위치의 두 비트 둘 중 하나가 1일 경우 1, 나머지는 0)\n",
    "print(a ^ b)     # 10010 ^ 11001 => 01011 (= 11, 같은 위치의 두 비트가 다르면 1, 같으면 0)\n",
    "print(\"---------------------------------\\n\")\n",
    "\n",
    "# 비트 연산 : shift\n",
    "# A << B : A를 비트 단위에서 왼쪽으로 B만큼 이동\n",
    "# a << 1 연산은 a에 2를 곱한 것과 같다\n",
    "print(\"비트 연산 shift << \")\n",
    "a = 3     # 11\n",
    "print(a << 1)     # 11 => 110 (= 6)\n",
    "print(a << 2)     # 11 => 1100 (= 12)\n",
    "print(\"---------------------------------\\n\")\n",
    "\n",
    "# A >> B : A를 비트 단위에서 오른쪽으로 B만큼 이동\n",
    "# a >> 1 연산은 a에 2를 나눈 것과 같다\n",
    "print(\"비트 연산 shift >> \")\n",
    "a = 37     # 100101\n",
    "print(a >> 1)     # 100101 => 10010 (= 18)\n",
    "print(a >> 2)     # 100101 => 1001 (= 9)\n",
    "print(\"---------------------------------\\n\")\n"
   ]
  },
  {
   "cell_type": "code",
   "execution_count": 1,
   "id": "7eced784",
   "metadata": {},
   "outputs": [
    {
     "name": "stdout",
     "output_type": "stream",
     "text": [
      "x =  [3]\n",
      "<class 'list'>\n",
      "2의 root 값 :  1.4142135623730951\n"
     ]
    }
   ],
   "source": [
    "# Sympy 사용법\n",
    "import sympy   # Symbolic mathemathics of Python. 수학 공식 정의 및 풀이 관련 파이썬 패키지\n",
    "\n",
    "# ex) 6x - 1 = x + 14 라는 방정식의 해를 구하려면\n",
    "x = sympy.symbols(\"x\")   # 변수 x 정의\n",
    "f = sympy.Eq(6*x-1, x+14)   # 방정식의 좌항, 우항을 차례대로 정의\n",
    "print('x = ', sympy.solve(f))   # solve() 함수로 방정식 f의 해 구하기\n",
    "print(type(sympy.solve(f)))   # 해의 type은 list로 방정식의 모든 해를 원소 값으로 가진다.\n",
    "\n",
    "\n",
    "# Python에서 제곱근(Square Root) 구하는 방법\n",
    "import math   # 수학 관련 함수가 있는 파이썬 기본 패키지\n",
    "a = 2\n",
    "print('2의 root 값 : ', math.sqrt(a))   # math 패키지의 sqrt() 함수 사용"
   ]
  },
  {
   "cell_type": "code",
   "execution_count": 19,
   "id": "098e560e",
   "metadata": {},
   "outputs": [
    {
     "name": "stdout",
     "output_type": "stream",
     "text": [
      "식 f의 해 : [1/2 - sqrt(5)/2, 1/2 + sqrt(5)/2]\n",
      "황금비 : 1:1.618033988749895\n"
     ]
    }
   ],
   "source": [
    "# 실습 2-1. 황금비의 정의와 sympy, math 패키지를 이용하여 황금비를 실수 형태로 출력하시오.\n",
    "\n",
    "x = #TODO  # 변수 x 정의\n",
    "f = #TODO  # x:1=x+1:x의 내항과 외항을 곱하면 x^2=x+1인데 이 방정식을 sympy를 이용하여 정의\n",
    "print(f'식 f의 해 : {#TODO}')  # solve 메소드를 사용하여 식 f에 대한 symbol x의 해를 구함\n",
    "print(f'황금비 : 1:{#TODO}')  # 방정식의 해 중 양수 값의 황금비 출력"
   ]
  },
  {
   "cell_type": "code",
   "execution_count": 20,
   "id": "80916cfd",
   "metadata": {},
   "outputs": [
    {
     "name": "stdout",
     "output_type": "stream",
     "text": [
      "1과 2번째 피보나치 수열의 비율 : 1.0\n",
      "2과 3번째 피보나치 수열의 비율 : 2.0\n",
      "3과 4번째 피보나치 수열의 비율 : 1.5\n",
      "4과 5번째 피보나치 수열의 비율 : 1.6666666666666667\n",
      "5과 6번째 피보나치 수열의 비율 : 1.6\n",
      "6과 7번째 피보나치 수열의 비율 : 1.625\n",
      "7과 8번째 피보나치 수열의 비율 : 1.6153846153846154\n",
      "8과 9번째 피보나치 수열의 비율 : 1.619047619047619\n",
      "9과 10번째 피보나치 수열의 비율 : 1.6176470588235294\n",
      "10과 11번째 피보나치 수열의 비율 : 1.6181818181818182\n",
      "11과 12번째 피보나치 수열의 비율 : 1.6179775280898876\n",
      "12과 13번째 피보나치 수열의 비율 : 1.6180555555555556\n",
      "13과 14번째 피보나치 수열의 비율 : 1.6180257510729614\n",
      "14과 15번째 피보나치 수열의 비율 : 1.6180371352785146\n",
      "15과 16번째 피보나치 수열의 비율 : 1.618032786885246\n"
     ]
    }
   ],
   "source": [
    "# 실습 2-2. 실습 1에서 만든 피보나치 수열을 구하는 함수를 이용하여 피보나치 수열 15번째까지의 원소들에 대하여 n+1번째 항과 n번째 항의 \n",
    "# 비율을 구하고 해당 비율이 어떤 값으로 수렴해나가는지 관찰해보시오.\n",
    "# Hint : (n+1) / (n) 의 비율을 구하면 실습 2-1에서 구한 황금비의 값과 같아짐을 알 수 있다.\n",
    "\n",
    "def fibo(n):\n",
    "    #TODO\n",
    "    \n",
    "\n",
    "fibo_ratio_list = list()\n",
    "for n in range(1, 16):\n",
    "    fibo_ratio = #TODO\n",
    "    fibo_ratio_list.append(fibo_ratio)\n",
    "    print(f'{n}과 {n+1}번째 피보나치 수열의 비율 : {fibo_ratio}')\n",
    "    "
   ]
  },
  {
   "cell_type": "code",
   "execution_count": 21,
   "id": "d54bffac",
   "metadata": {},
   "outputs": [],
   "source": [
    "# 실습 3. 아래 코드는 turtle이라는 drawing tool을 이용하여 n개의 피보나치 수열에 대한 황금 직사각형과 황금 나선을 그리는 코드이다. \n",
    "# n번째까지의 피보나치 수열을 list 형태로 반환하는 get_Fibonacci() 함수를 구현하고 \n",
    "# 긴 주석 ‘’’ ‘’’ 사이에 들어갈 적절한 코드를 작성하여 n개의 황금 직사각형과 이에 내접하는 황금 나선을 완성하시오.\n",
    "# 단, n은 1 이상 10 이하의 자연수\n",
    "# Hint : ppt 참조\n",
    "\n",
    "# 라이브러리 추가\n",
    "#import turtle\n",
    "from ColabTurtlePlus import Turtle as turtle\n",
    "turtle.initializeTurtle()\n",
    "import math\n",
    "\n",
    "N = 10   # 피보나치 수열의 개수\n",
    "SIZE = 10   # 황금 직사각형 한 변의 길이\n",
    "pi = math.pi   # 파이(pi) 값\n",
    "\n",
    "turtle.clear()\n",
    "turtle.reset()\n",
    "\n",
    "# Turtle 환경 설정\n",
    "turtle.clearscreen()\n",
    "turtle.setup(1500, 1500)\n",
    "wn = turtle.Screen()\n",
    "myTurtle = turtle.Turtle()  # Screen의 크기와 초기 위치 x = 0, y = 0를 가지는 turtle 객체 정의\n",
    "myTurtle.pensize(3)   # 황금 나선을 나타낼 pen 크기\n",
    "myTurtle.speed(5)\n",
    "\n",
    "\n",
    "# n번째까지의 피보나치 수열들을 리스트 형태로 반환하는 함수\n",
    "def get_fibonacci(length):\n",
    "    current_value, next_value = 0, 1\n",
    "    fibonacci_list = list()\n",
    "    for _ in range(length):\n",
    "        #TODO # 피보나치 구현\n",
    "        fibonacci_list.append(current_value)\n",
    "    return fibonacci_list\n",
    "\n",
    "\n",
    "# 피보나치 수열 계산과 황금 직사각형을 그리는 함수\n",
    "def rectangle(fibo_list):\n",
    "    for fibo in fibo_list:                      \n",
    "        #TODO                  # 커서 방향을 right 방향으로 90도로 변경(= 아래로 변경)\n",
    "        #TODO \n",
    "        pass                      # drawSq(a) => a 길이의 황금 직사각형을 draw\n",
    "        \n",
    "def drawSq(sides):\n",
    "    for _ in range(6):                     # 사각형의 4개의 변을 지나고 다음 사각형의 시작 지점까지의 거리 2 => 4 + 2 = 6\n",
    "        #TODO                           # 현재 pointer의 방향으로 sides 길이만큼 draw\n",
    "        myTurtle.left(90)\n",
    "\n",
    "        \n",
    "# 황금 나선을 그리는 함수\n",
    "def sprial(fibo_list):\n",
    "    # 나선을 그릴 pen 방향, 초기 위치 등을 정의\n",
    "    r = SIZE                                 # 호(arc)의 반지름 길이\n",
    "    angle = 90\n",
    "    myTurtle.right((90 + 90*N) % 360)      # 현재 커서(황금 직사각형을 그린 후) 방향을 아래쪽을 가리키도록 초기화\n",
    "    myTurtle.penup()                       # 호를 그리는 pen 방향 및 pen 위치 정의\n",
    "    myTurtle.setpos(0,0)                   \n",
    "    myTurtle.pendown()\n",
    "    # 피보나치 수열에 따른 황금 나선 draw\n",
    "    for fibo in fibo_list:\n",
    "        #TODO  # (n번째 피보나치 수열 값 X SIZE)를 반지름으로하고 angle 만큼의 각도를 가지는 호(arc)를 draw\n",
    "\n",
    "\n",
    "def arcLine(n, length, angle):\n",
    "    for i in range(n):\n",
    "        myTurtle.forward(length)\n",
    "        myTurtle.left(angle)\n",
    "\n",
    "\n",
    "# 입력된 반지름(r) 길이와 각도(angle)에 대하여 호(arc)를 그리는 함수\n",
    "def arc(r, angle):\n",
    "    arc_length = #TODO\n",
    "    n = int(arc_length / 4) + 1\n",
    "    step_length = arc_length / n\n",
    "    step_angle = float(angle) / n\n",
    "    myTurtle.left(step_angle/2)\n",
    "    arcLine(n, step_length, step_angle)\n",
    "    myTurtle.right(step_angle/2)\n",
    "\n",
    "\n",
    "fibonacci_list = get_fibonacci(N)                                   # 피보나치 수열 획득\n",
    "rectangle(fibonacci_list)                                     # 황금 직사각형 draw\n",
    "sprial(fibonacci_list)                                   # 황금 나선 draw"
   ]
  },
  {
   "cell_type": "code",
   "execution_count": null,
   "id": "d3e991de",
   "metadata": {},
   "outputs": [],
   "source": []
  }
 ],
 "metadata": {
  "kernelspec": {
   "display_name": "Python 3.9.6 64-bit",
   "language": "python",
   "name": "python3"
  },
  "language_info": {
   "codemirror_mode": {
    "name": "ipython",
    "version": 3
   },
   "file_extension": ".py",
   "mimetype": "text/x-python",
   "name": "python",
   "nbconvert_exporter": "python",
   "pygments_lexer": "ipython3",
   "version": "3.9.6"
  },
  "vscode": {
   "interpreter": {
    "hash": "31f2aee4e71d21fbe5cf8b01ff0e069b9275f58929596ceb00d14d90e3e16cd6"
   }
  }
 },
 "nbformat": 4,
 "nbformat_minor": 5
}
